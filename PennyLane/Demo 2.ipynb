{
 "cells": [
  {
   "cell_type": "markdown",
   "metadata": {},
   "source": [
    "# Demo 2"
   ]
  },
  {
   "cell_type": "markdown",
   "metadata": {},
   "source": [
    "## Set up simple single-qubit circuit"
   ]
  },
  {
   "cell_type": "code",
   "execution_count": null,
   "metadata": {},
   "outputs": [],
   "source": [
    "import pennylane as qml\n",
    "from pennylane import numpy as np\n",
    "import matplotlib.pyplot as plt"
   ]
  },
  {
   "cell_type": "code",
   "execution_count": null,
   "metadata": {},
   "outputs": [],
   "source": [
    "dev = qml.device(\"default.qubit\", wires=1)"
   ]
  },
  {
   "cell_type": "code",
   "execution_count": null,
   "metadata": {},
   "outputs": [],
   "source": [
    "@qml.qnode(dev)\n",
    "def rotation(thetas):\n",
    "    qml.RX(1, wires=0)\n",
    "    qml.RZ(1, wires=0)\n",
    "    \n",
    "    qml.RX(thetas[0], wires=0)\n",
    "    qml.RY(thetas[1], wires=0)\n",
    "\n",
    "    return qml.expval(qml.PauliZ(0))"
   ]
  },
  {
   "cell_type": "markdown",
   "metadata": {},
   "source": [
    "## Use gradient descent optimizer"
   ]
  },
  {
   "cell_type": "code",
   "execution_count": null,
   "metadata": {},
   "outputs": [],
   "source": [
    "opt = qml.GradientDescentOptimizer(stepsize=0.05)\n",
    "\n",
    "thetas = np.zeros(2)\n",
    "costs_gds = [rotation(thetas)]\n",
    "thetas_list_gds = [thetas]\n",
    "\n",
    "for i in range(300):\n",
    "    thetas = opt.step(rotation, thetas)\n",
    "    costs_gds.append(rotation(thetas))\n",
    "    thetas_list_gds.append(thetas)"
   ]
  },
  {
   "cell_type": "markdown",
   "metadata": {},
   "source": [
    "## Use quantum natural gradient optimizer"
   ]
  },
  {
   "cell_type": "code",
   "execution_count": null,
   "metadata": {},
   "outputs": [],
   "source": [
    "opt = qml.QNGOptimizer(stepsize=0.05)\n",
    "\n",
    "thetas = np.zeros(2)\n",
    "costs_qng = [rotation(thetas)]\n",
    "thetas_list_qng = [thetas]\n",
    "\n",
    "for i in range(300):\n",
    "    thetas = opt.step(rotation, thetas)\n",
    "    costs_qng.append(rotation(thetas))\n",
    "    thetas_list_qng.append(thetas)"
   ]
  },
  {
   "cell_type": "markdown",
   "metadata": {},
   "source": [
    "## Compare performance"
   ]
  },
  {
   "cell_type": "code",
   "execution_count": null,
   "metadata": {},
   "outputs": [],
   "source": [
    "plt.plot(costs_gds, label=\"Gradient Descent\")\n",
    "plt.plot(costs_qng, label=\"Quantum Natural Gradient\")\n",
    "plt.xlabel(\"Steps\")\n",
    "plt.ylabel(\"Cost\")\n",
    "plt.legend()"
   ]
  },
  {
   "cell_type": "markdown",
   "metadata": {},
   "source": [
    "### Note: the QNG optimizer evaluates the circuit multiple times per step. Moreover, the stepsize/learning rate for both optimizers may not be optimal!"
   ]
  },
  {
   "cell_type": "markdown",
   "metadata": {},
   "source": [
    "## Compare paths"
   ]
  },
  {
   "cell_type": "code",
   "execution_count": null,
   "metadata": {},
   "outputs": [],
   "source": [
    "thetas_list_gds = np.array(thetas_list_gds)\n",
    "thetas_list_qng = np.array(thetas_list_qng)"
   ]
  },
  {
   "cell_type": "code",
   "execution_count": null,
   "metadata": {},
   "outputs": [],
   "source": [
    "theta1s = np.linspace(0, 2.5)\n",
    "theta2s = np.linspace(0, 1.5)\n",
    "costs_grid = []\n",
    "\n",
    "for theta1 in theta1s:\n",
    "    for theta2 in theta2s:\n",
    "        cost = rotation([theta1, theta2])\n",
    "        costs_grid.append(cost)\n",
    "\n",
    "costs_grid = np.array(costs_grid).reshape((50, 50))"
   ]
  },
  {
   "cell_type": "code",
   "execution_count": null,
   "metadata": {},
   "outputs": [],
   "source": [
    "cmap = plt.get_cmap('Greens')\n",
    "plt.contourf(theta1s, theta2s, costs_grid.T, cmap=cmap)\n",
    "plt.plot(thetas_list_gds[:, 0], thetas_list_gds[:, 1], \"-o\", label=\"Gradient Descent\")\n",
    "plt.plot(thetas_list_qng[:, 0], thetas_list_qng[:, 1], \"-o\", label=\"Quantum Natural Gradient\")\n",
    "plt.xlabel(r\"$\\theta_{1}$\")\n",
    "plt.ylabel(r\"$\\theta_{2}$\")\n",
    "plt.legend()"
   ]
  }
 ],
 "metadata": {
  "kernelspec": {
   "display_name": "Python 3",
   "language": "python",
   "name": "python3"
  },
  "language_info": {
   "codemirror_mode": {
    "name": "ipython",
    "version": 3
   },
   "file_extension": ".py",
   "mimetype": "text/x-python",
   "name": "python",
   "nbconvert_exporter": "python",
   "pygments_lexer": "ipython3",
   "version": "3.7.7"
  }
 },
 "nbformat": 4,
 "nbformat_minor": 4
}
